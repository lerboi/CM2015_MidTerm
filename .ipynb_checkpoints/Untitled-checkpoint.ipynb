{
 "cells": [
  {
   "cell_type": "markdown",
   "id": "1212abcd",
   "metadata": {},
   "source": [
    "CM2015 L10C\n",
    "\n",
    "Mental Fatigue through Consecutive Matches and its Impact on Performance\n",
    "\n",
    "Goal: Find the IDEAL number of games to play a day for rank progression\n",
    "\n",
    "Idea: Analyze performance degradation when players engage in multiple matches in a row without breaks.\n",
    "\n",
    "What do i need?\n",
    "Match-v5 (for player stats (KDA, etc) across consecutive games to get patterns)\n",
    " - Match Timeline API (/lol/match/v5/matches/{matchId}/timeline)\n",
    "Summoner-v4 ( for players rank and tier to track progression over time)\n",
    "League-v4 (rank and progression history)\n",
    "\n",
    "\n",
    "Author: Leroy Ng\n",
    "Date: 15/10/2024"
   ]
  },
  {
   "cell_type": "code",
   "execution_count": 5,
   "id": "2d6e27ca-8651-493b-beb5-be74b8dd98e2",
   "metadata": {},
   "outputs": [],
   "source": [
    "#Importing libraries\n",
    "import numpy as np\n",
    "import pandas as pd\n",
    "import matplotlib.pyplot as plt\n",
    "import seaborn as sns\n",
    "import requests\n",
    "import os\n",
    "\n",
    "from config import RIOT_API_KEY"
   ]
  },
  {
   "cell_type": "code",
   "execution_count": null,
   "id": "e51a2220-561e-4a98-81b4-83cd6930ecf4",
   "metadata": {},
   "outputs": [],
   "source": []
  }
 ],
 "metadata": {
  "kernelspec": {
   "display_name": "Python 3 (ipykernel)",
   "language": "python",
   "name": "python3"
  },
  "language_info": {
   "codemirror_mode": {
    "name": "ipython",
    "version": 3
   },
   "file_extension": ".py",
   "mimetype": "text/x-python",
   "name": "python",
   "nbconvert_exporter": "python",
   "pygments_lexer": "ipython3",
   "version": "3.12.5"
  }
 },
 "nbformat": 4,
 "nbformat_minor": 5
}
